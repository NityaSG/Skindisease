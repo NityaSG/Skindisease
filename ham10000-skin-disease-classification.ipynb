{
 "cells": [
  {
   "attachments": {},
   "cell_type": "markdown",
   "id": "geological-arena",
   "metadata": {
    "papermill": {
     "duration": 0.022406,
     "end_time": "2021-04-24T15:17:14.551219",
     "exception": false,
     "start_time": "2021-04-24T15:17:14.528813",
     "status": "completed"
    },
    "tags": []
   },
   "source": [
    "# Importing Libraries"
   ]
  },
  {
   "cell_type": "code",
   "execution_count": 3,
   "id": "economic-lemon",
   "metadata": {
    "execution": {
     "iopub.execute_input": "2021-04-24T15:17:14.598922Z",
     "iopub.status.busy": "2021-04-24T15:17:14.596901Z",
     "iopub.status.idle": "2021-04-24T15:17:22.028800Z",
     "shell.execute_reply": "2021-04-24T15:17:22.028065Z"
    },
    "papermill": {
     "duration": 7.456837,
     "end_time": "2021-04-24T15:17:22.028981",
     "exception": false,
     "start_time": "2021-04-24T15:17:14.572144",
     "status": "completed"
    },
    "tags": []
   },
   "outputs": [],
   "source": [
    "import seaborn as sns\n",
    "import matplotlib.pyplot as plt\n",
    "from imblearn.over_sampling import RandomOverSampler \n",
    "from imblearn.over_sampling import RandomOverSampler\n",
    "import numpy as np\n",
    "from sklearn.model_selection import train_test_split\n",
    "import os, cv2\n",
    "import tensorflow as tf\n",
    "from tensorflow.keras.models import Sequential\n",
    "from tensorflow.keras.layers import Conv2D, Flatten, Dense, MaxPool2D"
   ]
  },
  {
   "attachments": {},
   "cell_type": "markdown",
   "id": "fresh-coordination",
   "metadata": {
    "papermill": {
     "duration": 0.020177,
     "end_time": "2021-04-24T15:17:22.071965",
     "exception": false,
     "start_time": "2021-04-24T15:17:22.051788",
     "status": "completed"
    },
    "tags": []
   },
   "source": [
    "# Import Data"
   ]
  },
  {
   "cell_type": "code",
   "execution_count": 4,
   "id": "distinguished-wings",
   "metadata": {
    "execution": {
     "iopub.execute_input": "2021-04-24T15:17:22.122492Z",
     "iopub.status.busy": "2021-04-24T15:17:22.121923Z",
     "iopub.status.idle": "2021-04-24T15:17:27.368483Z",
     "shell.execute_reply": "2021-04-24T15:17:27.367838Z"
    },
    "papermill": {
     "duration": 5.276912,
     "end_time": "2021-04-24T15:17:27.368702",
     "exception": false,
     "start_time": "2021-04-24T15:17:22.091790",
     "status": "completed"
    },
    "tags": []
   },
   "outputs": [
    {
     "data": {
      "text/html": [
       "<div>\n",
       "<style scoped>\n",
       "    .dataframe tbody tr th:only-of-type {\n",
       "        vertical-align: middle;\n",
       "    }\n",
       "\n",
       "    .dataframe tbody tr th {\n",
       "        vertical-align: top;\n",
       "    }\n",
       "\n",
       "    .dataframe thead th {\n",
       "        text-align: right;\n",
       "    }\n",
       "</style>\n",
       "<table border=\"1\" class=\"dataframe\">\n",
       "  <thead>\n",
       "    <tr style=\"text-align: right;\">\n",
       "      <th></th>\n",
       "      <th>pixel0000</th>\n",
       "      <th>pixel0001</th>\n",
       "      <th>pixel0002</th>\n",
       "      <th>pixel0003</th>\n",
       "      <th>pixel0004</th>\n",
       "      <th>pixel0005</th>\n",
       "      <th>pixel0006</th>\n",
       "      <th>pixel0007</th>\n",
       "      <th>pixel0008</th>\n",
       "      <th>pixel0009</th>\n",
       "      <th>...</th>\n",
       "      <th>pixel2343</th>\n",
       "      <th>pixel2344</th>\n",
       "      <th>pixel2345</th>\n",
       "      <th>pixel2346</th>\n",
       "      <th>pixel2347</th>\n",
       "      <th>pixel2348</th>\n",
       "      <th>pixel2349</th>\n",
       "      <th>pixel2350</th>\n",
       "      <th>pixel2351</th>\n",
       "      <th>label</th>\n",
       "    </tr>\n",
       "  </thead>\n",
       "  <tbody>\n",
       "    <tr>\n",
       "      <th>0</th>\n",
       "      <td>192</td>\n",
       "      <td>153</td>\n",
       "      <td>193</td>\n",
       "      <td>195</td>\n",
       "      <td>155</td>\n",
       "      <td>192</td>\n",
       "      <td>197</td>\n",
       "      <td>154</td>\n",
       "      <td>185</td>\n",
       "      <td>202</td>\n",
       "      <td>...</td>\n",
       "      <td>173</td>\n",
       "      <td>124</td>\n",
       "      <td>138</td>\n",
       "      <td>183</td>\n",
       "      <td>147</td>\n",
       "      <td>166</td>\n",
       "      <td>185</td>\n",
       "      <td>154</td>\n",
       "      <td>177</td>\n",
       "      <td>2</td>\n",
       "    </tr>\n",
       "    <tr>\n",
       "      <th>1</th>\n",
       "      <td>25</td>\n",
       "      <td>14</td>\n",
       "      <td>30</td>\n",
       "      <td>68</td>\n",
       "      <td>48</td>\n",
       "      <td>75</td>\n",
       "      <td>123</td>\n",
       "      <td>93</td>\n",
       "      <td>126</td>\n",
       "      <td>158</td>\n",
       "      <td>...</td>\n",
       "      <td>60</td>\n",
       "      <td>39</td>\n",
       "      <td>55</td>\n",
       "      <td>25</td>\n",
       "      <td>14</td>\n",
       "      <td>28</td>\n",
       "      <td>25</td>\n",
       "      <td>14</td>\n",
       "      <td>27</td>\n",
       "      <td>2</td>\n",
       "    </tr>\n",
       "    <tr>\n",
       "      <th>2</th>\n",
       "      <td>192</td>\n",
       "      <td>138</td>\n",
       "      <td>153</td>\n",
       "      <td>200</td>\n",
       "      <td>145</td>\n",
       "      <td>163</td>\n",
       "      <td>201</td>\n",
       "      <td>142</td>\n",
       "      <td>160</td>\n",
       "      <td>206</td>\n",
       "      <td>...</td>\n",
       "      <td>167</td>\n",
       "      <td>129</td>\n",
       "      <td>143</td>\n",
       "      <td>159</td>\n",
       "      <td>124</td>\n",
       "      <td>142</td>\n",
       "      <td>136</td>\n",
       "      <td>104</td>\n",
       "      <td>117</td>\n",
       "      <td>2</td>\n",
       "    </tr>\n",
       "    <tr>\n",
       "      <th>3</th>\n",
       "      <td>38</td>\n",
       "      <td>19</td>\n",
       "      <td>30</td>\n",
       "      <td>95</td>\n",
       "      <td>59</td>\n",
       "      <td>72</td>\n",
       "      <td>143</td>\n",
       "      <td>103</td>\n",
       "      <td>119</td>\n",
       "      <td>171</td>\n",
       "      <td>...</td>\n",
       "      <td>44</td>\n",
       "      <td>26</td>\n",
       "      <td>36</td>\n",
       "      <td>25</td>\n",
       "      <td>12</td>\n",
       "      <td>17</td>\n",
       "      <td>25</td>\n",
       "      <td>12</td>\n",
       "      <td>15</td>\n",
       "      <td>2</td>\n",
       "    </tr>\n",
       "    <tr>\n",
       "      <th>4</th>\n",
       "      <td>158</td>\n",
       "      <td>113</td>\n",
       "      <td>139</td>\n",
       "      <td>194</td>\n",
       "      <td>144</td>\n",
       "      <td>174</td>\n",
       "      <td>215</td>\n",
       "      <td>162</td>\n",
       "      <td>191</td>\n",
       "      <td>225</td>\n",
       "      <td>...</td>\n",
       "      <td>209</td>\n",
       "      <td>166</td>\n",
       "      <td>185</td>\n",
       "      <td>172</td>\n",
       "      <td>135</td>\n",
       "      <td>149</td>\n",
       "      <td>109</td>\n",
       "      <td>78</td>\n",
       "      <td>92</td>\n",
       "      <td>2</td>\n",
       "    </tr>\n",
       "  </tbody>\n",
       "</table>\n",
       "<p>5 rows × 2353 columns</p>\n",
       "</div>"
      ],
      "text/plain": [
       "   pixel0000  pixel0001  pixel0002  pixel0003  pixel0004  pixel0005  \\\n",
       "0        192        153        193        195        155        192   \n",
       "1         25         14         30         68         48         75   \n",
       "2        192        138        153        200        145        163   \n",
       "3         38         19         30         95         59         72   \n",
       "4        158        113        139        194        144        174   \n",
       "\n",
       "   pixel0006  pixel0007  pixel0008  pixel0009  ...  pixel2343  pixel2344  \\\n",
       "0        197        154        185        202  ...        173        124   \n",
       "1        123         93        126        158  ...         60         39   \n",
       "2        201        142        160        206  ...        167        129   \n",
       "3        143        103        119        171  ...         44         26   \n",
       "4        215        162        191        225  ...        209        166   \n",
       "\n",
       "   pixel2345  pixel2346  pixel2347  pixel2348  pixel2349  pixel2350  \\\n",
       "0        138        183        147        166        185        154   \n",
       "1         55         25         14         28         25         14   \n",
       "2        143        159        124        142        136        104   \n",
       "3         36         25         12         17         25         12   \n",
       "4        185        172        135        149        109         78   \n",
       "\n",
       "   pixel2351  label  \n",
       "0        177      2  \n",
       "1         27      2  \n",
       "2        117      2  \n",
       "3         15      2  \n",
       "4         92      2  \n",
       "\n",
       "[5 rows x 2353 columns]"
      ]
     },
     "execution_count": 4,
     "metadata": {},
     "output_type": "execute_result"
    }
   ],
   "source": [
    "import pandas as pd\n",
    "data = pd.read_csv('hmnist_28_28_RGB.csv')\n",
    "data.head()"
   ]
  },
  {
   "cell_type": "code",
   "execution_count": 5,
   "id": "capital-peter",
   "metadata": {
    "execution": {
     "iopub.execute_input": "2021-04-24T15:17:27.516571Z",
     "iopub.status.busy": "2021-04-24T15:17:27.512309Z",
     "iopub.status.idle": "2021-04-24T15:17:27.518363Z",
     "shell.execute_reply": "2021-04-24T15:17:27.519365Z"
    },
    "papermill": {
     "duration": 0.127978,
     "end_time": "2021-04-24T15:17:27.519797",
     "exception": false,
     "start_time": "2021-04-24T15:17:27.391819",
     "status": "completed"
    },
    "tags": []
   },
   "outputs": [],
   "source": [
    "y = data['label']\n",
    "x = data.drop(columns = ['label'])"
   ]
  },
  {
   "attachments": {},
   "cell_type": "markdown",
   "id": "aerial-gamma",
   "metadata": {
    "papermill": {
     "duration": 0.035954,
     "end_time": "2021-04-24T15:17:27.601667",
     "exception": false,
     "start_time": "2021-04-24T15:17:27.565713",
     "status": "completed"
    },
    "tags": []
   },
   "source": [
    "# Exploratory Data Analysis (EDA)"
   ]
  },
  {
   "cell_type": "code",
   "execution_count": 6,
   "id": "governing-developer",
   "metadata": {
    "execution": {
     "iopub.execute_input": "2021-04-24T15:17:27.686672Z",
     "iopub.status.busy": "2021-04-24T15:17:27.685488Z",
     "iopub.status.idle": "2021-04-24T15:17:27.739542Z",
     "shell.execute_reply": "2021-04-24T15:17:27.741129Z"
    },
    "papermill": {
     "duration": 0.104482,
     "end_time": "2021-04-24T15:17:27.741409",
     "exception": false,
     "start_time": "2021-04-24T15:17:27.636927",
     "status": "completed"
    },
    "tags": []
   },
   "outputs": [
    {
     "data": {
      "text/html": [
       "<div>\n",
       "<style scoped>\n",
       "    .dataframe tbody tr th:only-of-type {\n",
       "        vertical-align: middle;\n",
       "    }\n",
       "\n",
       "    .dataframe tbody tr th {\n",
       "        vertical-align: top;\n",
       "    }\n",
       "\n",
       "    .dataframe thead th {\n",
       "        text-align: right;\n",
       "    }\n",
       "</style>\n",
       "<table border=\"1\" class=\"dataframe\">\n",
       "  <thead>\n",
       "    <tr style=\"text-align: right;\">\n",
       "      <th></th>\n",
       "      <th>lesion_id</th>\n",
       "      <th>image_id</th>\n",
       "      <th>dx</th>\n",
       "      <th>dx_type</th>\n",
       "      <th>age</th>\n",
       "      <th>sex</th>\n",
       "      <th>localization</th>\n",
       "    </tr>\n",
       "  </thead>\n",
       "  <tbody>\n",
       "    <tr>\n",
       "      <th>0</th>\n",
       "      <td>HAM_0000118</td>\n",
       "      <td>ISIC_0027419</td>\n",
       "      <td>bkl</td>\n",
       "      <td>histo</td>\n",
       "      <td>80.0</td>\n",
       "      <td>male</td>\n",
       "      <td>scalp</td>\n",
       "    </tr>\n",
       "    <tr>\n",
       "      <th>1</th>\n",
       "      <td>HAM_0000118</td>\n",
       "      <td>ISIC_0025030</td>\n",
       "      <td>bkl</td>\n",
       "      <td>histo</td>\n",
       "      <td>80.0</td>\n",
       "      <td>male</td>\n",
       "      <td>scalp</td>\n",
       "    </tr>\n",
       "    <tr>\n",
       "      <th>2</th>\n",
       "      <td>HAM_0002730</td>\n",
       "      <td>ISIC_0026769</td>\n",
       "      <td>bkl</td>\n",
       "      <td>histo</td>\n",
       "      <td>80.0</td>\n",
       "      <td>male</td>\n",
       "      <td>scalp</td>\n",
       "    </tr>\n",
       "    <tr>\n",
       "      <th>3</th>\n",
       "      <td>HAM_0002730</td>\n",
       "      <td>ISIC_0025661</td>\n",
       "      <td>bkl</td>\n",
       "      <td>histo</td>\n",
       "      <td>80.0</td>\n",
       "      <td>male</td>\n",
       "      <td>scalp</td>\n",
       "    </tr>\n",
       "    <tr>\n",
       "      <th>4</th>\n",
       "      <td>HAM_0001466</td>\n",
       "      <td>ISIC_0031633</td>\n",
       "      <td>bkl</td>\n",
       "      <td>histo</td>\n",
       "      <td>75.0</td>\n",
       "      <td>male</td>\n",
       "      <td>ear</td>\n",
       "    </tr>\n",
       "  </tbody>\n",
       "</table>\n",
       "</div>"
      ],
      "text/plain": [
       "     lesion_id      image_id   dx dx_type   age   sex localization\n",
       "0  HAM_0000118  ISIC_0027419  bkl   histo  80.0  male        scalp\n",
       "1  HAM_0000118  ISIC_0025030  bkl   histo  80.0  male        scalp\n",
       "2  HAM_0002730  ISIC_0026769  bkl   histo  80.0  male        scalp\n",
       "3  HAM_0002730  ISIC_0025661  bkl   histo  80.0  male        scalp\n",
       "4  HAM_0001466  ISIC_0031633  bkl   histo  75.0  male          ear"
      ]
     },
     "execution_count": 6,
     "metadata": {},
     "output_type": "execute_result"
    }
   ],
   "source": [
    "tabular_data = pd.read_csv('HAM10000_metadata.csv')\n",
    "tabular_data.head()"
   ]
  },
  {
   "cell_type": "code",
   "execution_count": 7,
   "id": "dressed-blake",
   "metadata": {
    "execution": {
     "iopub.execute_input": "2021-04-24T15:17:27.840231Z",
     "iopub.status.busy": "2021-04-24T15:17:27.839221Z",
     "iopub.status.idle": "2021-04-24T15:17:27.843987Z",
     "shell.execute_reply": "2021-04-24T15:17:27.844775Z"
    },
    "papermill": {
     "duration": 0.054875,
     "end_time": "2021-04-24T15:17:27.845071",
     "exception": false,
     "start_time": "2021-04-24T15:17:27.790196",
     "status": "completed"
    },
    "tags": []
   },
   "outputs": [],
   "source": [
    "classes = {4: ('nv', ' melanocytic nevi'), 6: ('mel', 'melanoma'), 2 :('bkl', 'benign keratosis-like lesions'), 1:('bcc' , ' basal cell carcinoma'), 5: ('vasc', ' pyogenic granulomas and hemorrhage'), 0: ('akiec', 'Actinic keratoses and intraepithelial carcinomae'),  3: ('df', 'dermatofibroma')}"
   ]
  },
  {
   "attachments": {},
   "cell_type": "markdown",
   "id": "intense-operation",
   "metadata": {
    "papermill": {
     "duration": 0.037792,
     "end_time": "2021-04-24T15:17:27.924229",
     "exception": false,
     "start_time": "2021-04-24T15:17:27.886437",
     "status": "completed"
    },
    "tags": []
   },
   "source": [
    "# Frequency Distribution of Classes"
   ]
  },
  {
   "cell_type": "code",
   "execution_count": 8,
   "id": "foreign-steam",
   "metadata": {
    "execution": {
     "iopub.execute_input": "2021-04-24T15:17:28.030027Z",
     "iopub.status.busy": "2021-04-24T15:17:28.028904Z",
     "iopub.status.idle": "2021-04-24T15:17:28.339238Z",
     "shell.execute_reply": "2021-04-24T15:17:28.340726Z"
    },
    "papermill": {
     "duration": 0.376694,
     "end_time": "2021-04-24T15:17:28.340999",
     "exception": false,
     "start_time": "2021-04-24T15:17:27.964305",
     "status": "completed"
    },
    "tags": []
   },
   "outputs": [
    {
     "data": {
      "text/plain": [
       "Text(0.5, 1.0, 'Frequency Distribution of Classes')"
      ]
     },
     "execution_count": 8,
     "metadata": {},
     "output_type": "execute_result"
    },
    {
     "data": {
      "image/png": "[encoded data removed]",
      "text/plain": [
       "<Figure size 432x288 with 1 Axes>"
      ]
     },
     "metadata": {
      "needs_background": "light"
     },
     "output_type": "display_data"
    }
   ],
   "source": [
    "sns.countplot(x = 'dx', data = tabular_data)\n",
    "plt.xlabel('Disease', size=12)\n",
    "plt.ylabel('Frequency', size=12)\n",
    "plt.title('Frequency Distribution of Classes', size=16)"
   ]
  },
  {
   "attachments": {},
   "cell_type": "markdown",
   "id": "warming-connectivity",
   "metadata": {
    "papermill": {
     "duration": 0.037928,
     "end_time": "2021-04-24T15:17:28.418707",
     "exception": false,
     "start_time": "2021-04-24T15:17:28.380779",
     "status": "completed"
    },
    "tags": []
   },
   "source": [
    "# Distribution of Disease over Gender"
   ]
  },
  {
   "cell_type": "code",
   "execution_count": 9,
   "id": "other-solid",
   "metadata": {
    "execution": {
     "iopub.execute_input": "2021-04-24T15:17:28.514432Z",
     "iopub.status.busy": "2021-04-24T15:17:28.513466Z",
     "iopub.status.idle": "2021-04-24T15:17:28.726943Z",
     "shell.execute_reply": "2021-04-24T15:17:28.725454Z"
    },
    "papermill": {
     "duration": 0.268976,
     "end_time": "2021-04-24T15:17:28.727092",
     "exception": false,
     "start_time": "2021-04-24T15:17:28.458116",
     "status": "completed"
    },
    "tags": []
   },
   "outputs": [
    {
     "data": {
      "text/plain": [
       "Text(0.5, 1.0, 'Gender of Patient')"
      ]
     },
     "execution_count": 9,
     "metadata": {},
     "output_type": "execute_result"
    },
    {
     "data": {
      "image/png": "[encoded data removed]",
      "text/plain": [
       "<Figure size 720x720 with 1 Axes>"
      ]
     },
     "metadata": {},
     "output_type": "display_data"
    }
   ],
   "source": [
    "bar, ax = plt.subplots(figsize = (10,10))\n",
    "plt.pie(tabular_data['sex'].value_counts(), labels = tabular_data['sex'].value_counts().index, autopct=\"%.1f%%\")\n",
    "plt.title('Gender of Patient', size=16)"
   ]
  },
  {
   "attachments": {},
   "cell_type": "markdown",
   "id": "experienced-reputation",
   "metadata": {
    "papermill": {
     "duration": 0.0248,
     "end_time": "2021-04-24T15:17:28.778196",
     "exception": false,
     "start_time": "2021-04-24T15:17:28.753396",
     "status": "completed"
    },
    "tags": []
   },
   "source": [
    "# Histogram of Age of Patients"
   ]
  },
  {
   "cell_type": "code",
   "execution_count": 10,
   "id": "devoted-person",
   "metadata": {
    "execution": {
     "iopub.execute_input": "2021-04-24T15:17:29.043310Z",
     "iopub.status.busy": "2021-04-24T15:17:29.037844Z",
     "iopub.status.idle": "2021-04-24T15:17:29.301810Z",
     "shell.execute_reply": "2021-04-24T15:17:29.301240Z"
    },
    "papermill": {
     "duration": 0.498923,
     "end_time": "2021-04-24T15:17:29.302000",
     "exception": false,
     "start_time": "2021-04-24T15:17:28.803077",
     "status": "completed"
    },
    "tags": []
   },
   "outputs": [
    {
     "data": {
      "text/plain": [
       "Text(0.5, 1.0, 'Histogram of Age of Patients')"
      ]
     },
     "execution_count": 10,
     "metadata": {},
     "output_type": "execute_result"
    },
    {
     "data": {
      "image/png": "[encoded data removed]",
      "text/plain": [
       "<Figure size 720x720 with 1 Axes>"
      ]
     },
     "metadata": {
      "needs_background": "light"
     },
     "output_type": "display_data"
    }
   ],
   "source": [
    "bar, ax = plt.subplots(figsize=(10,10))\n",
    "sns.histplot(tabular_data['age'])\n",
    "plt.title('Histogram of Age of Patients', size=16)"
   ]
  },
  {
   "attachments": {},
   "cell_type": "markdown",
   "id": "bridal-woman",
   "metadata": {
    "papermill": {
     "duration": 0.0262,
     "end_time": "2021-04-24T15:17:29.355182",
     "exception": false,
     "start_time": "2021-04-24T15:17:29.328982",
     "status": "completed"
    },
    "tags": []
   },
   "source": [
    "# Location of disease over Gender"
   ]
  },
  {
   "cell_type": "code",
   "execution_count": 11,
   "id": "later-excellence",
   "metadata": {
    "execution": {
     "iopub.execute_input": "2021-04-24T15:17:29.416986Z",
     "iopub.status.busy": "2021-04-24T15:17:29.416082Z",
     "iopub.status.idle": "2021-04-24T15:17:30.354674Z",
     "shell.execute_reply": "2021-04-24T15:17:30.355454Z"
    },
    "papermill": {
     "duration": 0.973962,
     "end_time": "2021-04-24T15:17:30.355806",
     "exception": false,
     "start_time": "2021-04-24T15:17:29.381844",
     "status": "completed"
    },
    "tags": []
   },
   "outputs": [
    {
     "data": {
      "text/plain": [
       "(array([ 0,  1,  2,  3,  4,  5,  6,  7,  8,  9, 10, 11, 12, 13, 14]),\n",
       " [Text(0, 0, 'back'),\n",
       "  Text(1, 0, 'lower extremity'),\n",
       "  Text(2, 0, 'trunk'),\n",
       "  Text(3, 0, 'upper extremity'),\n",
       "  Text(4, 0, 'abdomen'),\n",
       "  Text(5, 0, 'face'),\n",
       "  Text(6, 0, 'chest'),\n",
       "  Text(7, 0, 'foot'),\n",
       "  Text(8, 0, 'scalp'),\n",
       "  Text(9, 0, 'neck'),\n",
       "  Text(10, 0, 'unknown'),\n",
       "  Text(11, 0, 'hand'),\n",
       "  Text(12, 0, 'genital'),\n",
       "  Text(13, 0, 'ear'),\n",
       "  Text(14, 0, 'acral')])"
      ]
     },
     "execution_count": 11,
     "metadata": {},
     "output_type": "execute_result"
    },
    {
     "data": {
      "image/png": "[encoded data removed]",
      "text/plain": [
       "<Figure size 864x864 with 1 Axes>"
      ]
     },
     "metadata": {
      "needs_background": "light"
     },
     "output_type": "display_data"
    }
   ],
   "source": [
    "value = tabular_data[['localization', 'sex']].value_counts().to_frame()\n",
    "value.reset_index(level=[1,0 ], inplace=True)\n",
    "temp = value.rename(columns = {'localization':'location', 0: 'count'})\n",
    "\n",
    "bar, ax = plt.subplots(figsize = (12, 12))\n",
    "sns.barplot(x = 'location',  y='count', hue = 'sex', data = temp)\n",
    "plt.title('Location of disease over Gender', size = 16)\n",
    "plt.xlabel('Disease', size=12)\n",
    "plt.ylabel('Frequency/Count', size=12)\n",
    "plt.xticks(rotation = 90)"
   ]
  },
  {
   "attachments": {},
   "cell_type": "markdown",
   "id": "fixed-genetics",
   "metadata": {
    "papermill": {
     "duration": 0.050531,
     "end_time": "2021-04-24T15:17:30.459382",
     "exception": false,
     "start_time": "2021-04-24T15:17:30.408851",
     "status": "completed"
    },
    "tags": []
   },
   "source": [
    "# Oversampling\n",
    "**To overcome class imbalace**"
   ]
  },
  {
   "cell_type": "code",
   "execution_count": 12,
   "id": "federal-spanking",
   "metadata": {
    "execution": {
     "iopub.execute_input": "2021-04-24T15:17:30.688547Z",
     "iopub.status.busy": "2021-04-24T15:17:30.687593Z",
     "iopub.status.idle": "2021-04-24T15:17:33.503945Z",
     "shell.execute_reply": "2021-04-24T15:17:33.503285Z"
    },
    "papermill": {
     "duration": 2.881168,
     "end_time": "2021-04-24T15:17:33.504094",
     "exception": false,
     "start_time": "2021-04-24T15:17:30.622926",
     "status": "completed"
    },
    "tags": []
   },
   "outputs": [],
   "source": [
    "oversample = RandomOverSampler()\n",
    "x,y  = oversample.fit_resample(x,y)"
   ]
  },
  {
   "cell_type": "code",
   "execution_count": 13,
   "id": "danish-empire",
   "metadata": {
    "execution": {
     "iopub.execute_input": "2021-04-24T15:17:33.565954Z",
     "iopub.status.busy": "2021-04-24T15:17:33.564620Z",
     "iopub.status.idle": "2021-04-24T15:17:33.929411Z",
     "shell.execute_reply": "2021-04-24T15:17:33.930410Z"
    },
    "papermill": {
     "duration": 0.397619,
     "end_time": "2021-04-24T15:17:33.930664",
     "exception": false,
     "start_time": "2021-04-24T15:17:33.533045",
     "status": "completed"
    },
    "tags": []
   },
   "outputs": [
    {
     "name": "stdout",
     "output_type": "stream",
     "text": [
      "Shape of X : (46935, 28, 28, 3)\n"
     ]
    }
   ],
   "source": [
    "import numpy as np\n",
    "x = np.array(x).reshape(-1,28,28,3)\n",
    "print('Shape of X :',x.shape)"
   ]
  },
  {
   "attachments": {},
   "cell_type": "markdown",
   "id": "straight-synthesis",
   "metadata": {
    "papermill": {
     "duration": 0.029477,
     "end_time": "2021-04-24T15:17:33.989809",
     "exception": false,
     "start_time": "2021-04-24T15:17:33.960332",
     "status": "completed"
    },
    "tags": []
   },
   "source": [
    "# Standardization and Splitting Data"
   ]
  },
  {
   "cell_type": "code",
   "execution_count": 14,
   "id": "statutory-chambers",
   "metadata": {
    "execution": {
     "iopub.execute_input": "2021-04-24T15:17:34.055949Z",
     "iopub.status.busy": "2021-04-24T15:17:34.054608Z",
     "iopub.status.idle": "2021-04-24T15:17:37.134891Z",
     "shell.execute_reply": "2021-04-24T15:17:37.134314Z"
    },
    "papermill": {
     "duration": 3.115227,
     "end_time": "2021-04-24T15:17:37.135054",
     "exception": false,
     "start_time": "2021-04-24T15:17:34.019827",
     "status": "completed"
    },
    "tags": []
   },
   "outputs": [],
   "source": [
    "x = (x-np.mean(x))/np.std(x)\n",
    "X_train, X_test, Y_train, Y_test = train_test_split(x,y, test_size=0.2, random_state=1)"
   ]
  },
  {
   "attachments": {},
   "cell_type": "markdown",
   "id": "modified-mirror",
   "metadata": {
    "papermill": {
     "duration": 0.027931,
     "end_time": "2021-04-24T15:17:37.191261",
     "exception": false,
     "start_time": "2021-04-24T15:17:37.163330",
     "status": "completed"
    },
    "tags": []
   },
   "source": [
    "# Model Training"
   ]
  },
  {
   "cell_type": "code",
   "execution_count": 15,
   "id": "crucial-color",
   "metadata": {
    "execution": {
     "iopub.execute_input": "2021-04-24T15:17:37.255174Z",
     "iopub.status.busy": "2021-04-24T15:17:37.254580Z",
     "iopub.status.idle": "2021-04-24T15:17:40.987511Z",
     "shell.execute_reply": "2021-04-24T15:17:40.984043Z"
    },
    "papermill": {
     "duration": 3.768767,
     "end_time": "2021-04-24T15:17:40.987808",
     "exception": false,
     "start_time": "2021-04-24T15:17:37.219041",
     "status": "completed"
    },
    "tags": []
   },
   "outputs": [
    {
     "name": "stdout",
     "output_type": "stream",
     "text": [
      "Model: \"sequential\"\n",
      "_________________________________________________________________\n",
      " Layer (type)                Output Shape              Param #   \n",
      "=================================================================\n",
      " conv2d (Conv2D)             (None, 28, 28, 16)        448       \n",
      "                                                                 \n",
      " conv2d_1 (Conv2D)           (None, 26, 26, 32)        4640      \n",
      "                                                                 \n",
      " max_pooling2d (MaxPooling2D  (None, 13, 13, 32)       0         \n",
      " )                                                               \n",
      "                                                                 \n",
      " conv2d_2 (Conv2D)           (None, 13, 13, 32)        9248      \n",
      "                                                                 \n",
      " conv2d_3 (Conv2D)           (None, 11, 11, 64)        18496     \n",
      "                                                                 \n",
      " max_pooling2d_1 (MaxPooling  (None, 6, 6, 64)         0         \n",
      " 2D)                                                             \n",
      "                                                                 \n",
      " flatten (Flatten)           (None, 2304)              0         \n",
      "                                                                 \n",
      " dense (Dense)               (None, 64)                147520    \n",
      "                                                                 \n",
      " dense_1 (Dense)             (None, 32)                2080      \n",
      "                                                                 \n",
      " dense_2 (Dense)             (None, 7)                 231       \n",
      "                                                                 \n",
      "=================================================================\n",
      "Total params: 182,663\n",
      "Trainable params: 182,663\n",
      "Non-trainable params: 0\n",
      "_________________________________________________________________\n"
     ]
    }
   ],
   "source": [
    "model = Sequential()\n",
    "model.add(Conv2D(16, kernel_size = (3,3), input_shape = (28, 28, 3), activation = 'relu', padding = 'same'))\n",
    "model.add(Conv2D(32, kernel_size = (3,3), activation = 'relu'))\n",
    "model.add(MaxPool2D(pool_size = (2,2)))\n",
    "model.add(Conv2D(32, kernel_size = (3,3), activation = 'relu', padding = 'same'))\n",
    "model.add(Conv2D(64, kernel_size = (3,3), activation = 'relu'))\n",
    "model.add(MaxPool2D(pool_size = (2,2), padding = 'same'))\n",
    "model.add(Flatten())\n",
    "model.add(Dense(64, activation='relu'))\n",
    "model.add(Dense(32, activation='relu'))\n",
    "model.add(Dense(7, activation='softmax'))\n",
    "model.summary()"
   ]
  },
  {
   "cell_type": "code",
   "execution_count": 16,
   "id": "ignored-plastic",
   "metadata": {
    "execution": {
     "iopub.execute_input": "2021-04-24T15:17:41.108540Z",
     "iopub.status.busy": "2021-04-24T15:17:41.107414Z",
     "iopub.status.idle": "2021-04-24T15:17:41.110370Z",
     "shell.execute_reply": "2021-04-24T15:17:41.109515Z"
    },
    "papermill": {
     "duration": 0.065062,
     "end_time": "2021-04-24T15:17:41.110588",
     "exception": false,
     "start_time": "2021-04-24T15:17:41.045526",
     "status": "completed"
    },
    "tags": []
   },
   "outputs": [],
   "source": [
    "callback = tf.keras.callbacks.ModelCheckpoint(filepath='best_model.h5',\n",
    "                                                  monitor='val_acc', mode='max',\n",
    "                                                 verbose=1)\n"
   ]
  },
  {
   "cell_type": "code",
   "execution_count": 17,
   "id": "acknowledged-short",
   "metadata": {
    "execution": {
     "iopub.execute_input": "2021-04-24T15:17:41.219631Z",
     "iopub.status.busy": "2021-04-24T15:17:41.218705Z",
     "iopub.status.idle": "2021-04-24T15:18:17.817659Z",
     "shell.execute_reply": "2021-04-24T15:18:17.816750Z"
    },
    "papermill": {
     "duration": 36.658645,
     "end_time": "2021-04-24T15:18:17.817869",
     "exception": false,
     "start_time": "2021-04-24T15:17:41.159224",
     "status": "completed"
    },
    "tags": []
   },
   "outputs": [
    {
     "name": "stdout",
     "output_type": "stream",
     "text": [
      "Epoch 1/20\n",
      "235/235 [==============================] - ETA: 0s - loss: 1.2418 - accuracy: 0.5148\n",
      "Epoch 1: saving model to best_model.h5\n",
      "235/235 [==============================] - 10s 31ms/step - loss: 1.2418 - accuracy: 0.5148 - val_loss: 0.9072 - val_accuracy: 0.6652\n",
      "Epoch 2/20\n",
      "235/235 [==============================] - ETA: 0s - loss: 0.6844 - accuracy: 0.7538\n",
      "Epoch 2: saving model to best_model.h5\n",
      "235/235 [==============================] - 7s 28ms/step - loss: 0.6844 - accuracy: 0.7538 - val_loss: 0.5032 - val_accuracy: 0.8317\n",
      "Epoch 3/20\n",
      "234/235 [============================>.] - ETA: 0s - loss: 0.4032 - accuracy: 0.8588\n",
      "Epoch 3: saving model to best_model.h5\n",
      "235/235 [==============================] - 6s 27ms/step - loss: 0.4030 - accuracy: 0.8588 - val_loss: 0.3338 - val_accuracy: 0.8779\n",
      "Epoch 4/20\n",
      "234/235 [============================>.] - ETA: 0s - loss: 0.2755 - accuracy: 0.9064\n",
      "Epoch 4: saving model to best_model.h5\n",
      "235/235 [==============================] - 6s 27ms/step - loss: 0.2752 - accuracy: 0.9065 - val_loss: 0.2548 - val_accuracy: 0.9119\n",
      "Epoch 5/20\n",
      "234/235 [============================>.] - ETA: 0s - loss: 0.2031 - accuracy: 0.9292\n",
      "Epoch 5: saving model to best_model.h5\n",
      "235/235 [==============================] - 6s 27ms/step - loss: 0.2031 - accuracy: 0.9291 - val_loss: 0.2254 - val_accuracy: 0.9212\n",
      "Epoch 6/20\n",
      "235/235 [==============================] - ETA: 0s - loss: 0.1444 - accuracy: 0.9494\n",
      "Epoch 6: saving model to best_model.h5\n",
      "235/235 [==============================] - 7s 28ms/step - loss: 0.1444 - accuracy: 0.9494 - val_loss: 0.1806 - val_accuracy: 0.9364\n",
      "Epoch 7/20\n",
      "234/235 [============================>.] - ETA: 0s - loss: 0.1209 - accuracy: 0.9577\n",
      "Epoch 7: saving model to best_model.h5\n",
      "235/235 [==============================] - 7s 28ms/step - loss: 0.1208 - accuracy: 0.9578 - val_loss: 0.1714 - val_accuracy: 0.9487\n",
      "Epoch 8/20\n",
      "233/235 [============================>.] - ETA: 0s - loss: 0.1069 - accuracy: 0.9611\n",
      "Epoch 8: saving model to best_model.h5\n",
      "235/235 [==============================] - 7s 28ms/step - loss: 0.1068 - accuracy: 0.9611 - val_loss: 0.1697 - val_accuracy: 0.9467\n",
      "Epoch 9/20\n",
      "233/235 [============================>.] - ETA: 0s - loss: 0.0812 - accuracy: 0.9715\n",
      "Epoch 9: saving model to best_model.h5\n",
      "235/235 [==============================] - 7s 28ms/step - loss: 0.0811 - accuracy: 0.9715 - val_loss: 0.1702 - val_accuracy: 0.9565\n",
      "Epoch 10/20\n",
      "234/235 [============================>.] - ETA: 0s - loss: 0.0615 - accuracy: 0.9783\n",
      "Epoch 10: saving model to best_model.h5\n",
      "235/235 [==============================] - 7s 28ms/step - loss: 0.0617 - accuracy: 0.9782 - val_loss: 0.1664 - val_accuracy: 0.9551\n",
      "Epoch 11/20\n",
      "234/235 [============================>.] - ETA: 0s - loss: 0.0755 - accuracy: 0.9739\n",
      "Epoch 11: saving model to best_model.h5\n",
      "235/235 [==============================] - 7s 28ms/step - loss: 0.0755 - accuracy: 0.9739 - val_loss: 0.1224 - val_accuracy: 0.9663\n",
      "Epoch 12/20\n",
      "233/235 [============================>.] - ETA: 0s - loss: 0.0496 - accuracy: 0.9823\n",
      "Epoch 12: saving model to best_model.h5\n",
      "235/235 [==============================] - 7s 28ms/step - loss: 0.0499 - accuracy: 0.9822 - val_loss: 0.1565 - val_accuracy: 0.9607\n",
      "Epoch 13/20\n",
      "235/235 [==============================] - ETA: 0s - loss: 0.0593 - accuracy: 0.9797\n",
      "Epoch 13: saving model to best_model.h5\n",
      "235/235 [==============================] - 6s 28ms/step - loss: 0.0593 - accuracy: 0.9797 - val_loss: 0.1484 - val_accuracy: 0.9589\n",
      "Epoch 14/20\n",
      "234/235 [============================>.] - ETA: 0s - loss: 0.0390 - accuracy: 0.9863\n",
      "Epoch 14: saving model to best_model.h5\n",
      "235/235 [==============================] - 7s 28ms/step - loss: 0.0389 - accuracy: 0.9863 - val_loss: 0.1095 - val_accuracy: 0.9748\n",
      "Epoch 15/20\n",
      "233/235 [============================>.] - ETA: 0s - loss: 0.0289 - accuracy: 0.9904\n",
      "Epoch 15: saving model to best_model.h5\n",
      "235/235 [==============================] - 7s 28ms/step - loss: 0.0291 - accuracy: 0.9903 - val_loss: 0.1101 - val_accuracy: 0.9771\n",
      "Epoch 16/20\n",
      "235/235 [==============================] - ETA: 0s - loss: 0.0483 - accuracy: 0.9839\n",
      "Epoch 16: saving model to best_model.h5\n",
      "235/235 [==============================] - 6s 28ms/step - loss: 0.0483 - accuracy: 0.9839 - val_loss: 0.1683 - val_accuracy: 0.9613\n",
      "Epoch 17/20\n",
      "233/235 [============================>.] - ETA: 0s - loss: 0.0129 - accuracy: 0.9965\n",
      "Epoch 17: saving model to best_model.h5\n",
      "235/235 [==============================] - 6s 28ms/step - loss: 0.0129 - accuracy: 0.9964 - val_loss: 0.1366 - val_accuracy: 0.9734\n",
      "Epoch 18/20\n",
      "235/235 [==============================] - ETA: 0s - loss: 0.0480 - accuracy: 0.9848\n",
      "Epoch 18: saving model to best_model.h5\n",
      "235/235 [==============================] - 6s 28ms/step - loss: 0.0480 - accuracy: 0.9848 - val_loss: 0.2276 - val_accuracy: 0.9407\n",
      "Epoch 19/20\n",
      "235/235 [==============================] - ETA: 0s - loss: 0.0389 - accuracy: 0.9869\n",
      "Epoch 19: saving model to best_model.h5\n",
      "235/235 [==============================] - 7s 28ms/step - loss: 0.0389 - accuracy: 0.9869 - val_loss: 0.1735 - val_accuracy: 0.9652\n",
      "Epoch 20/20\n",
      "234/235 [============================>.] - ETA: 0s - loss: 0.0137 - accuracy: 0.9962\n",
      "Epoch 20: saving model to best_model.h5\n",
      "235/235 [==============================] - 7s 28ms/step - loss: 0.0139 - accuracy: 0.9961 - val_loss: 0.2053 - val_accuracy: 0.9587\n"
     ]
    }
   ],
   "source": [
    "model.compile(loss = 'sparse_categorical_crossentropy',\n",
    "             optimizer = 'adam',\n",
    "              metrics = ['accuracy'])\n",
    "history = model.fit(X_train,\n",
    "                    Y_train,\n",
    "                    validation_split=0.2,\n",
    "                    batch_size = 128,\n",
    "                    epochs = 20,\n",
    "                    callbacks=[callback])"
   ]
  },
  {
   "attachments": {},
   "cell_type": "markdown",
   "id": "veterinary-cache",
   "metadata": {
    "papermill": {
     "duration": 0.192787,
     "end_time": "2021-04-24T15:18:18.210366",
     "exception": false,
     "start_time": "2021-04-24T15:18:18.017579",
     "status": "completed"
    },
    "tags": []
   },
   "source": [
    "# Plot Accuracy and Loss"
   ]
  },
  {
   "cell_type": "code",
   "execution_count": 18,
   "id": "polished-mexico",
   "metadata": {
    "execution": {
     "iopub.execute_input": "2021-04-24T15:18:18.640167Z",
     "iopub.status.busy": "2021-04-24T15:18:18.627791Z",
     "iopub.status.idle": "2021-04-24T15:18:18.804777Z",
     "shell.execute_reply": "2021-04-24T15:18:18.804135Z"
    },
    "papermill": {
     "duration": 0.398477,
     "end_time": "2021-04-24T15:18:18.804962",
     "exception": false,
     "start_time": "2021-04-24T15:18:18.406485",
     "status": "completed"
    },
    "tags": []
   },
   "outputs": [
    {
     "data": {
      "image/png": "[encoded data removed]",
      "text/plain": [
       "<Figure size 432x288 with 1 Axes>"
      ]
     },
     "metadata": {
      "needs_background": "light"
     },
     "output_type": "display_data"
    }
   ],
   "source": [
    "plt.plot(history.history['accuracy'])\n",
    "plt.plot(history.history['val_accuracy'])\n",
    "plt.title('model accuracy')\n",
    "plt.ylabel('accuracy')\n",
    "plt.xlabel('epoch')\n",
    "plt.legend(['train', 'val'], loc='upper left')\n",
    "plt.show()"
   ]
  },
  {
   "cell_type": "code",
   "execution_count": 17,
   "id": "hydraulic-appearance",
   "metadata": {
    "execution": {
     "iopub.execute_input": "2021-04-24T15:18:19.231936Z",
     "iopub.status.busy": "2021-04-24T15:18:19.224700Z",
     "iopub.status.idle": "2021-04-24T15:18:19.401942Z",
     "shell.execute_reply": "2021-04-24T15:18:19.402474Z"
    },
    "papermill": {
     "duration": 0.398173,
     "end_time": "2021-04-24T15:18:19.402712",
     "exception": false,
     "start_time": "2021-04-24T15:18:19.004539",
     "status": "completed"
    },
    "tags": []
   },
   "outputs": [
    {
     "data": {
      "image/png": "[encoded data removed]",
      "text/plain": [
       "<Figure size 432x288 with 1 Axes>"
      ]
     },
     "metadata": {
      "needs_background": "light"
     },
     "output_type": "display_data"
    }
   ],
   "source": [
    "plt.plot(history.history['loss'])\n",
    "plt.plot(history.history['val_loss'])\n",
    "plt.title('model loss')\n",
    "plt.ylabel('loss')\n",
    "plt.xlabel('epoch')\n",
    "plt.legend(['train', 'val'], loc='upper left')\n",
    "plt.show()"
   ]
  },
  {
   "cell_type": "code",
   "execution_count": 19,
   "id": "alone-guyana",
   "metadata": {
    "execution": {
     "iopub.execute_input": "2021-04-24T15:18:19.817436Z",
     "iopub.status.busy": "2021-04-24T15:18:19.816400Z",
     "iopub.status.idle": "2021-04-24T15:18:19.826846Z",
     "shell.execute_reply": "2021-04-24T15:18:19.824928Z"
    },
    "papermill": {
     "duration": 0.225055,
     "end_time": "2021-04-24T15:18:19.826992",
     "exception": false,
     "start_time": "2021-04-24T15:18:19.601937",
     "status": "completed"
    },
    "tags": []
   },
   "outputs": [],
   "source": [
    "model.load_weights('best_model.h5')\n"
   ]
  },
  {
   "attachments": {},
   "cell_type": "markdown",
   "id": "chubby-surfing",
   "metadata": {
    "papermill": {
     "duration": 0.200188,
     "end_time": "2021-04-24T15:18:20.227917",
     "exception": false,
     "start_time": "2021-04-24T15:18:20.027729",
     "status": "completed"
    },
    "tags": []
   },
   "source": [
    "# Model Testing"
   ]
  },
  {
   "cell_type": "code",
   "execution_count": 20,
   "id": "divine-practice",
   "metadata": {
    "execution": {
     "iopub.execute_input": "2021-04-24T15:18:20.635612Z",
     "iopub.status.busy": "2021-04-24T15:18:20.634267Z",
     "iopub.status.idle": "2021-04-24T15:18:21.404595Z",
     "shell.execute_reply": "2021-04-24T15:18:21.403304Z"
    },
    "papermill": {
     "duration": 0.977782,
     "end_time": "2021-04-24T15:18:21.404799",
     "exception": false,
     "start_time": "2021-04-24T15:18:20.427017",
     "status": "completed"
    },
    "tags": []
   },
   "outputs": [
    {
     "name": "stdout",
     "output_type": "stream",
     "text": [
      "294/294 - 2s - loss: 0.2243 - accuracy: 0.9591 - 2s/epoch - 6ms/step\n"
     ]
    }
   ],
   "source": [
    "loss, acc = model.evaluate(X_test, Y_test, verbose=2)"
   ]
  },
  {
   "attachments": {},
   "cell_type": "markdown",
   "id": "unlimited-relay",
   "metadata": {
    "papermill": {
     "duration": 0.201808,
     "end_time": "2021-04-24T15:18:21.809342",
     "exception": false,
     "start_time": "2021-04-24T15:18:21.607534",
     "status": "completed"
    },
    "tags": []
   },
   "source": [
    "# Model Inference"
   ]
  },
  {
   "cell_type": "code",
   "execution_count": 36,
   "id": "90f68d03",
   "metadata": {},
   "outputs": [
    {
     "ename": "ModuleNotFoundError",
     "evalue": "No module named 'google.colab'",
     "output_type": "error",
     "traceback": [
      "\u001b[1;31m---------------------------------------------------------------------------\u001b[0m",
      "\u001b[1;31mModuleNotFoundError\u001b[0m                       Traceback (most recent call last)",
      "\u001b[1;32m<ipython-input-36-fea67e2c7627>\u001b[0m in \u001b[0;36m<module>\u001b[1;34m\u001b[0m\n\u001b[1;32m----> 1\u001b[1;33m \u001b[1;32mfrom\u001b[0m \u001b[0mgoogle\u001b[0m\u001b[1;33m.\u001b[0m\u001b[0mcolab\u001b[0m\u001b[1;33m.\u001b[0m\u001b[0mpatches\u001b[0m \u001b[1;32mimport\u001b[0m \u001b[0mcv2_imshow\u001b[0m\u001b[1;33m\u001b[0m\u001b[1;33m\u001b[0m\u001b[0m\n\u001b[0m",
      "\u001b[1;31mModuleNotFoundError\u001b[0m: No module named 'google.colab'"
     ]
    },
    {
     "ename": "",
     "evalue": "",
     "output_type": "error",
     "traceback": [
      "\u001b[1;31mThe Kernel crashed while executing code in the the current cell or a previous cell. Please review the code in the cell(s) to identify a possible cause of the failure. Click <a href='https://aka.ms/vscodeJupyterKernelCrash'>here</a> for more info. View Jupyter <a href='command:jupyter.viewOutput'>log</a> for further details."
     ]
    }
   ],
   "source": [
    "\n"
   ]
  },
  {
   "cell_type": "code",
   "execution_count": 35,
   "id": "former-printer",
   "metadata": {
    "execution": {
     "iopub.execute_input": "2021-04-24T15:18:22.247384Z",
     "iopub.status.busy": "2021-04-24T15:18:22.217366Z",
     "iopub.status.idle": "2021-04-24T15:19:19.602179Z",
     "shell.execute_reply": "2021-04-24T15:19:19.602809Z"
    },
    "papermill": {
     "duration": 57.596668,
     "end_time": "2021-04-24T15:19:19.603097",
     "exception": false,
     "start_time": "2021-04-24T15:18:22.006429",
     "status": "completed"
    },
    "tags": []
   },
   "outputs": [
    {
     "name": "stdout",
     "output_type": "stream",
     "text": [
      "('nv', ' melanocytic nevi')\n",
      "('nv', ' melanocytic nevi')\n",
      "('nv', ' melanocytic nevi')\n",
      "('nv', ' melanocytic nevi')\n",
      "('nv', ' melanocytic nevi')\n",
      "('nv', ' melanocytic nevi')\n",
      "('nv', ' melanocytic nevi')\n",
      "('nv', ' melanocytic nevi')\n",
      "('nv', ' melanocytic nevi')\n",
      "('nv', ' melanocytic nevi')\n",
      "('nv', ' melanocytic nevi')\n"
     ]
    }
   ],
   "source": [
    "!pip install google.colab\n",
    "from google.colab.patches import cv2_imshow\n",
    "srcdir = './HAM10000_images_part_1'\n",
    "count=0\n",
    "for temp in os.listdir(srcdir):\n",
    "    img = cv2.imread(os.path.join(srcdir, temp))\n",
    "    cv2.imwrite(temp, img)\n",
    "    cv2_imshow(img)\n",
    "    img = cv2.resize(img, (28, 28))\n",
    "    result = model.predict(img.reshape(1, 28, 28, 3))\n",
    "    max_prob = max(result[0])\n",
    "    class_ind = list(result[0]).index(max_prob)\n",
    "    class_name = classes[class_ind]\n",
    "    print(class_name)\n",
    "    count+=1\n",
    "    if count>10:\n",
    "        break"
   ]
  },
  {
   "cell_type": "code",
   "execution_count": 21,
   "id": "5996972c",
   "metadata": {},
   "outputs": [
    {
     "name": "stdout",
     "output_type": "stream",
     "text": [
      "('nv', ' melanocytic nevi')\n"
     ]
    }
   ],
   "source": [
    "import cv2\n",
    "dirr = './HAM10000_images_part_1/ISIC_0024306.jpg'\n",
    "img = cv2.imread(dirr)\n",
    "cv2.imwrite(dirr, img)\n",
    "window_name = 'image'\n",
    "cv2.imshow(window_name, img)\n",
    "img = cv2.resize(img, (28, 28))\n",
    "result = model.predict(img.reshape(1, 28, 28, 3))\n",
    "max_prob = max(result[0])\n",
    "class_ind = list(result[0]).index(max_prob)\n",
    "class_name = classes[class_ind]\n",
    "print(class_name)\n",
    "    "
   ]
  },
  {
   "cell_type": "code",
   "execution_count": 22,
   "id": "e851f60b",
   "metadata": {},
   "outputs": [
    {
     "name": "stdout",
     "output_type": "stream",
     "text": [
      "INFO:tensorflow:Assets written to: saved_model/my_model\\assets\n"
     ]
    }
   ],
   "source": [
    "model.save('saved_model/my_model')"
   ]
  },
  {
   "cell_type": "code",
   "execution_count": 23,
   "id": "c326e3cf",
   "metadata": {},
   "outputs": [],
   "source": [
    "new_model = tf.keras.models.load_model('saved_model/my_model')"
   ]
  },
  {
   "cell_type": "code",
   "execution_count": 24,
   "id": "13048a30",
   "metadata": {},
   "outputs": [
    {
     "name": "stdout",
     "output_type": "stream",
     "text": [
      "Model: \"sequential\"\n",
      "_________________________________________________________________\n",
      " Layer (type)                Output Shape              Param #   \n",
      "=================================================================\n",
      " conv2d (Conv2D)             (None, 28, 28, 16)        448       \n",
      "                                                                 \n",
      " conv2d_1 (Conv2D)           (None, 26, 26, 32)        4640      \n",
      "                                                                 \n",
      " max_pooling2d (MaxPooling2D  (None, 13, 13, 32)       0         \n",
      " )                                                               \n",
      "                                                                 \n",
      " conv2d_2 (Conv2D)           (None, 13, 13, 32)        9248      \n",
      "                                                                 \n",
      " conv2d_3 (Conv2D)           (None, 11, 11, 64)        18496     \n",
      "                                                                 \n",
      " max_pooling2d_1 (MaxPooling  (None, 6, 6, 64)         0         \n",
      " 2D)                                                             \n",
      "                                                                 \n",
      " flatten (Flatten)           (None, 2304)              0         \n",
      "                                                                 \n",
      " dense (Dense)               (None, 64)                147520    \n",
      "                                                                 \n",
      " dense_1 (Dense)             (None, 32)                2080      \n",
      "                                                                 \n",
      " dense_2 (Dense)             (None, 7)                 231       \n",
      "                                                                 \n",
      "=================================================================\n",
      "Total params: 182,663\n",
      "Trainable params: 182,663\n",
      "Non-trainable params: 0\n",
      "_________________________________________________________________\n"
     ]
    },
    {
     "ename": "",
     "evalue": "",
     "output_type": "error",
     "traceback": [
      "\u001b[1;31mThe Kernel crashed while executing code in the the current cell or a previous cell. Please review the code in the cell(s) to identify a possible cause of the failure. Click <a href='https://aka.ms/vscodeJupyterKernelCrash'>here</a> for more info. View Jupyter <a href='command:jupyter.viewOutput'>log</a> for further details."
     ]
    }
   ],
   "source": [
    "new_model.summary()"
   ]
  },
  {
   "cell_type": "code",
   "execution_count": null,
   "id": "2a940c92",
   "metadata": {},
   "outputs": [],
   "source": []
  }
 ],
 "metadata": {
  "kernelspec": {
   "display_name": "Python 3",
   "language": "python",
   "name": "python3"
  },
  "language_info": {
   "codemirror_mode": {
    "name": "ipython",
    "version": 3
   },
   "file_extension": ".py",
   "mimetype": "text/x-python",
   "name": "python",
   "nbconvert_exporter": "python",
   "pygments_lexer": "ipython3",
   "version": "3.8.8"
  },
  "papermill": {
   "default_parameters": {},
   "duration": 134.978462,
   "end_time": "2021-04-24T15:19:23.665595",
   "environment_variables": {},
   "exception": null,
   "input_path": "__notebook__.ipynb",
   "output_path": "__notebook__.ipynb",
   "parameters": {},
   "start_time": "2021-04-24T15:17:08.687133",
   "version": "2.3.2"
  }
 },
 "nbformat": 4,
 "nbformat_minor": 5
}
